{
 "cells": [
  {
   "cell_type": "code",
   "execution_count": 36,
   "id": "679e4b72",
   "metadata": {},
   "outputs": [],
   "source": [
    "import pandas as pd \n",
    "from sklearn.datasets import load_boston \n",
    "from sklearn.model_selection import train_test_split\n",
    "from sklearn.linear_model import Ridge,Lasso,LassoCV\n",
    "import sklearn.metrics as mt\n",
    "import numpy as np "
   ]
  },
  {
   "cell_type": "code",
   "execution_count": 37,
   "id": "a6991830",
   "metadata": {},
   "outputs": [],
   "source": [
    "#veri yükleme ve işleme\n",
    "df=load_boston()\n",
    "data = pd.DataFrame(df.data,columns=df.feature_names)\n",
    "veri=data.copy()\n",
    "veri[\"PRICE\"]=df.target\n",
    "\n",
    "y=veri[\"PRICE\"]\n",
    "X=veri.drop(columns=\"PRICE\",axis=1)"
   ]
  },
  {
   "cell_type": "code",
   "execution_count": 38,
   "id": "4d7756be",
   "metadata": {},
   "outputs": [],
   "source": [
    "#eğitim ve test verilerinin ayrılması\n",
    "X_train,X_test,y_train,y_test=train_test_split(X,y,test_size=0.2,random_state=42)"
   ]
  },
  {
   "cell_type": "code",
   "execution_count": 39,
   "id": "14f2a195",
   "metadata": {},
   "outputs": [
    {
     "name": "stdout",
     "output_type": "stream",
     "text": [
      "0.750827350977196\n",
      "0.668624412202141\n"
     ]
    }
   ],
   "source": [
    "#ridge regresyon\n",
    "ridge_model=Ridge(alpha=0.1)\n",
    "ridge_model.fit(X_train,y_train)\n",
    "tahmin=ridge_model.predict(X_test)\n",
    "print(ridge_model.score(X_train,y_train))\n",
    "print(ridge_model.score(X_test,y_test))"
   ]
  },
  {
   "cell_type": "code",
   "execution_count": 40,
   "id": "da872e7a",
   "metadata": {},
   "outputs": [
    {
     "name": "stdout",
     "output_type": "stream",
     "text": [
      "0.7382419735910873\n",
      "0.6569712802223936\n"
     ]
    }
   ],
   "source": [
    "#lasso regresyon \n",
    "lasso_model=Lasso(alpha=0.1)\n",
    "lasso_model.fit(X_train,y_train)\n",
    "\n",
    "print(lasso_model.score(X_train,y_train))\n",
    "print(lasso_model.score(X_test,y_test))"
   ]
  },
  {
   "cell_type": "code",
   "execution_count": 41,
   "id": "ecd4bbdf",
   "metadata": {},
   "outputs": [
    {
     "name": "stdout",
     "output_type": "stream",
     "text": [
      "[-1.12399694e-01  3.04593914e-02  3.48958400e-02  2.75033318e+00\n",
      " -1.59244585e+01  4.44577949e+00 -7.30474388e-03 -1.42960751e+00\n",
      "  2.60042840e-01 -1.07802286e-02 -9.00771040e-01  1.24004789e-02\n",
      " -5.10902332e-01]\n",
      "[-0.10415691  0.03489335 -0.01678527  0.91995182 -0.          4.31168655\n",
      " -0.01512583 -1.15148729  0.23923695 -0.01296223 -0.73224678  0.01309057\n",
      " -0.56467442]\n"
     ]
    }
   ],
   "source": [
    "#ridge lasso regresyon için katsayılar\n",
    "print(ridge_model.coef_)\n",
    "print(lasso_model.coef_)"
   ]
  },
  {
   "cell_type": "code",
   "execution_count": 42,
   "id": "698fd598",
   "metadata": {},
   "outputs": [
    {
     "name": "stdout",
     "output_type": "stream",
     "text": [
      "13\n",
      "12\n"
     ]
    }
   ],
   "source": [
    "#ridge ve lassoda 0 olmayan katsayı sayısı\n",
    "print(np.sum(ridge_model.coef_!=0))\n",
    "print(np.sum(lasso_model.coef_!=0))"
   ]
  },
  {
   "cell_type": "code",
   "execution_count": 43,
   "id": "4cdec1fc",
   "metadata": {},
   "outputs": [
    {
     "name": "stdout",
     "output_type": "stream",
     "text": [
      "0.711260779580433\n"
     ]
    }
   ],
   "source": [
    "#en uygun alphanın bulunması \n",
    "lamb=LassoCV(cv=10,max_iter=10000).fit(X_train,y_train).alpha_\n",
    "print(lamb)"
   ]
  },
  {
   "cell_type": "code",
   "execution_count": 44,
   "id": "c465d959",
   "metadata": {},
   "outputs": [
    {
     "name": "stdout",
     "output_type": "stream",
     "text": [
      "0.7157406210167571\n",
      "0.6706431115795963\n"
     ]
    }
   ],
   "source": [
    "#lasso modelin alpha değeriyle optimize edilmesi\n",
    "lasso_model2=Lasso(alpha=lamb)\n",
    "lasso_model2.fit(X_train,y_train)\n",
    "\n",
    "print(lasso_model2.score(X_train,y_train))\n",
    "print(lasso_model2.score(X_test,y_test))"
   ]
  },
  {
   "cell_type": "code",
   "execution_count": null,
   "id": "570e9b8f",
   "metadata": {},
   "outputs": [],
   "source": []
  }
 ],
 "metadata": {
  "kernelspec": {
   "display_name": "Python 3",
   "language": "python",
   "name": "python3"
  },
  "language_info": {
   "codemirror_mode": {
    "name": "ipython",
    "version": 3
   },
   "file_extension": ".py",
   "mimetype": "text/x-python",
   "name": "python",
   "nbconvert_exporter": "python",
   "pygments_lexer": "ipython3",
   "version": "3.8.8"
  }
 },
 "nbformat": 4,
 "nbformat_minor": 5
}
